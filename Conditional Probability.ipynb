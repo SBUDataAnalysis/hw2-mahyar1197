{
 "cells": [
  {
   "cell_type": "code",
   "execution_count": 107,
   "id": "1ddfe538",
   "metadata": {},
   "outputs": [],
   "source": [
    "import numpy as np"
   ]
  },
  {
   "cell_type": "code",
   "execution_count": 108,
   "id": "62faaaff",
   "metadata": {},
   "outputs": [],
   "source": [
    "options = ['car', 'goat', 'goat']\n"
   ]
  },
  {
   "cell_type": "code",
   "execution_count": 119,
   "id": "74f9781a",
   "metadata": {},
   "outputs": [],
   "source": [
    "def make_options():\n",
    "    np.random.shuffle(options)\n",
    "\n",
    "def make_choice():\n",
    "    choice = np.random.choice([0, 1, 2])\n",
    "    return choice\n",
    "\n",
    "def delete_option():\n",
    "    while 'goat' in options:\n",
    "        number = np.random.choice([0, 1, 2])\n",
    "        if number != choice:\n",
    "            options.remove('goat')\n",
    "    "
   ]
  },
  {
   "cell_type": "code",
   "execution_count": 199,
   "id": "c5793767",
   "metadata": {},
   "outputs": [],
   "source": [
    "win = 0\n",
    "\n",
    "n = 10\n",
    "for i in range(2):\n",
    "    make_options()\n",
    "    choice = make_choice()\n",
    "    delete_option()\n",
    "    \n",
    "    if options[choice] == 'car':\n",
    "        win += 1\n",
    "          \n",
    "# make_options()\n",
    "# choice = make_choice()\n",
    "# my_choice = options[choice]\n",
    "# delete_option()\n",
    "\n",
    "# if options[choice] == 'car':\n",
    "#     win += 1\n",
    "    \n",
    "# print(win)"
   ]
  }
 ],
 "metadata": {
  "kernelspec": {
   "display_name": "Python 3 (ipykernel)",
   "language": "python",
   "name": "python3"
  },
  "language_info": {
   "codemirror_mode": {
    "name": "ipython",
    "version": 3
   },
   "file_extension": ".py",
   "mimetype": "text/x-python",
   "name": "python",
   "nbconvert_exporter": "python",
   "pygments_lexer": "ipython3",
   "version": "3.9.7"
  }
 },
 "nbformat": 4,
 "nbformat_minor": 5
}
