{
  "cells": [
    {
      "cell_type": "markdown",
      "metadata": {
        "id": "u3suU_bYJNQN"
      },
      "source": [
        "![1d_randomwalk.png](attachment:1d_randomwalk.png)"
      ]
    },
    {
      "cell_type": "markdown",
      "metadata": {
        "id": "ezOk54yeJNQQ"
      },
      "source": [
        "# Random Walk\n"
      ]
    },
    {
      "cell_type": "markdown",
      "metadata": {
        "id": "9q4U5ZjWJNQR"
      },
      "source": [
        "As a physics student sometimes you see some random movement in nature like brownian motion(it's actually deterministic). we can use stochastic litrature to study brownian motion and find lots of valuable information about this process. Random walk is somehow one of the most instructive models that can help you understand how random process can model the nature."
      ]
    },
    {
      "cell_type": "markdown",
      "metadata": {
        "id": "KNDUb7DlJNQR"
      },
      "source": [
        "for the beging let's see what random walk is. according to Wikipedia(https://en.wikipedia.org/wiki/Random_walk) random walk is a mathematical object, known as a stochastic or random process, that describes a path that consists of a succession of random steps on some mathematical space such as the integers.\n",
        "\n",
        "An elementary example of a random walk is the random walk on the integer number line, ${\\displaystyle \\mathbb {Z} }$ , which starts at 0 and at each step moves +1 or −1 with equal probability. Other examples include the path traced by a molecule as it travels in a liquid or a gas (see Brownian motion), the search path of a foraging animal, the price of a fluctuating stock and the financial status of a gambler: all can be approximated by random walk models, even though they may not be truly random in reality."
      ]
    },
    {
      "cell_type": "markdown",
      "metadata": {
        "id": "2QYx_C9YJNQS"
      },
      "source": [
        "We know that you are passionate and want to explore all details of these process(joke :) ) but for the begining let's start with the simplest model, one dimensional random walk with same probability for right and left step."
      ]
    },
    {
      "cell_type": "markdown",
      "metadata": {
        "id": "N7lBUci3JNQS"
      },
      "source": [
        "1. the simplest model of random walk is a One-dimensional random walk, which starts at 0 and at each step moves +1 or −1 with equal probability. consider 10000_step 1d random walk. and use $10^5$ ensemble. in each ensemble begin from the origin(0) and record the endpoint at 10000th step. plot the PDF of these endpoints. also, calculate the first four moments of this PDF."
      ]
    },
    {
      "cell_type": "markdown",
      "metadata": {
        "id": "ha1oDDooJNQT"
      },
      "source": [
        "now look at the plot you create. does it looklike a normal distribution? if yes isn't it strange cause we know that the probability is bionomial not guassian.\n"
      ]
    },
    {
      "cell_type": "code",
      "execution_count": 7,
      "metadata": {
        "id": "XhtZqOqhJNQU"
      },
      "outputs": [],
      "source": [
        "import numpy as np\n",
        "import seaborn as sns\n",
        "import scipy"
      ]
    },
    {
      "cell_type": "code",
      "execution_count": 8,
      "metadata": {
        "id": "tOZvQdxjJNQV"
      },
      "outputs": [],
      "source": [
        "np.random.seed(1197)\n",
        "\n",
        "def make_motion():\n",
        "    steps = np.array([])\n",
        "\n",
        "    for i in range(10000):\n",
        "        motion = np.random.choice([-1, 1])\n",
        "        steps = np.append(steps, motion)\n",
        "\n",
        "    final_place = np.sum(steps)\n",
        "\n",
        "    return final_place"
      ]
    },
    {
      "cell_type": "code",
      "execution_count": 9,
      "metadata": {
        "id": "xPx9qChxJNQW"
      },
      "outputs": [],
      "source": [
        "ensemble = np.array([])\n",
        "for i in range(10000):\n",
        "    ensemble = np.append(ensemble, make_motion())\n"
      ]
    },
    {
      "cell_type": "code",
      "execution_count": 10,
      "metadata": {
        "colab": {
          "base_uri": "https://localhost:8080/",
          "height": 382
        },
        "id": "r2dtQ_LLJNQW",
        "outputId": "0adac063-90b4-4a63-f27f-6504a4b460e2"
      },
      "outputs": [
        {
          "output_type": "execute_result",
          "data": {
            "text/plain": [
              "<seaborn.axisgrid.FacetGrid at 0x7fe97b78d1d0>"
            ]
          },
          "metadata": {},
          "execution_count": 10
        },
        {
          "output_type": "display_data",
          "data": {
            "image/png": "[encoded data removed]",
            "text/plain": [
              "<Figure size 360x360 with 1 Axes>"
            ]
          },
          "metadata": {}
        }
      ],
      "source": [
        "sns.set()\n",
        "sns.displot(ensemble, bins=20, kde=True)"
      ]
    },
    {
      "cell_type": "code",
      "source": [
        "# first moment\n",
        "np.array(ensemble).mean()"
      ],
      "metadata": {
        "colab": {
          "base_uri": "https://localhost:8080/"
        },
        "id": "JW-ccy-CJhx4",
        "outputId": "5d1bb06c-93a3-49b7-b0ac-b7cd3e28851b"
      },
      "execution_count": 11,
      "outputs": [
        {
          "output_type": "execute_result",
          "data": {
            "text/plain": [
              "-1.483"
            ]
          },
          "metadata": {},
          "execution_count": 11
        }
      ]
    },
    {
      "cell_type": "code",
      "source": [
        "# second moment\n",
        "scipy.stats.moment(ensemble, moment=2)"
      ],
      "metadata": {
        "colab": {
          "base_uri": "https://localhost:8080/"
        },
        "id": "a3lJQ-eiJu5A",
        "outputId": "b5deba83-fed1-4206-a45e-286e5530519d"
      },
      "execution_count": 12,
      "outputs": [
        {
          "output_type": "execute_result",
          "data": {
            "text/plain": [
              "10223.150711000002"
            ]
          },
          "metadata": {},
          "execution_count": 12
        }
      ]
    },
    {
      "cell_type": "code",
      "source": [
        "# third moment\n",
        "scipy.stats.moment(ensemble, moment=3)"
      ],
      "metadata": {
        "colab": {
          "base_uri": "https://localhost:8080/"
        },
        "id": "gO8DiVNFJvqw",
        "outputId": "ddfbd2a7-58b4-4539-c1c5-725714069b7a"
      },
      "execution_count": 13,
      "outputs": [
        {
          "output_type": "execute_result",
          "data": {
            "text/plain": [
              "14126.373458826116"
            ]
          },
          "metadata": {},
          "execution_count": 13
        }
      ]
    },
    {
      "cell_type": "code",
      "source": [
        "# fourth moment\n",
        "scipy.stats.moment(ensemble, moment=4)"
      ],
      "metadata": {
        "colab": {
          "base_uri": "https://localhost:8080/"
        },
        "id": "KI8OGP4oJwHg",
        "outputId": "c7d9e6a3-470d-4d21-efd9-40ecf109fb5e"
      },
      "execution_count": 14,
      "outputs": [
        {
          "output_type": "execute_result",
          "data": {
            "text/plain": [
              "310827132.1242614"
            ]
          },
          "metadata": {},
          "execution_count": 14
        }
      ]
    },
    {
      "cell_type": "markdown",
      "metadata": {
        "id": "E0HFX03vJNQX"
      },
      "source": [
        "2.change the probability of jumping to right and left in a way that $P_{left} = 2 P_{right}$ and then repeat the process of Q1 again and evaluate the PDF and first four moments and cumulants. "
      ]
    },
    {
      "cell_type": "code",
      "execution_count": 18,
      "metadata": {
        "id": "XPevdd0mJNQY"
      },
      "outputs": [],
      "source": [
        "import numpy as np\n",
        "import seaborn as sns\n",
        "import scipy"
      ]
    },
    {
      "cell_type": "code",
      "source": [
        "def make_motion_2():\n",
        "    steps = np.array([])\n",
        "\n",
        "    for i in range(10000):\n",
        "        motion = np.random.choice([-1, -1, 1])\n",
        "        steps = np.append(steps, motion)\n",
        "\n",
        "    final_place = np.sum(steps)\n",
        "\n",
        "    return final_place"
      ],
      "metadata": {
        "id": "W-qqx2G8J1ig"
      },
      "execution_count": 19,
      "outputs": []
    },
    {
      "cell_type": "code",
      "source": [
        "ensemble_2 = np.array([])\n",
        "for i in range(10000):\n",
        "    ensemble_2 = np.append(ensemble_2, make_motion_2())"
      ],
      "metadata": {
        "id": "m6MzHuulJ1ZY"
      },
      "execution_count": 20,
      "outputs": []
    },
    {
      "cell_type": "code",
      "source": [
        "sns.set()\n",
        "sns.displot(ensemble_2, bins=20, kde=True)"
      ],
      "metadata": {
        "id": "wCP4BUC6J1Ro",
        "colab": {
          "base_uri": "https://localhost:8080/",
          "height": 382
        },
        "outputId": "a9d0a814-fd6f-49c7-fc62-1b201fd9b605"
      },
      "execution_count": 21,
      "outputs": [
        {
          "output_type": "execute_result",
          "data": {
            "text/plain": [
              "<seaborn.axisgrid.FacetGrid at 0x7fe976dad9d0>"
            ]
          },
          "metadata": {},
          "execution_count": 21
        },
        {
          "output_type": "display_data",
          "data": {
            "image/png": "[encoded data removed]",
            "text/plain": [
              "<Figure size 360x360 with 1 Axes>"
            ]
          },
          "metadata": {}
        }
      ]
    },
    {
      "cell_type": "code",
      "source": [
        "# first moment\n",
        "np.array(ensemble_2).mean()"
      ],
      "metadata": {
        "id": "KGgTSr-mJ1IY",
        "colab": {
          "base_uri": "https://localhost:8080/"
        },
        "outputId": "9846ee31-cc10-4121-a0f7-8672f06759e6"
      },
      "execution_count": 22,
      "outputs": [
        {
          "output_type": "execute_result",
          "data": {
            "text/plain": [
              "-3333.2116"
            ]
          },
          "metadata": {},
          "execution_count": 22
        }
      ]
    },
    {
      "cell_type": "code",
      "source": [
        "# second moment\n",
        "scipy.stats.moment(ensemble_2, moment=2)"
      ],
      "metadata": {
        "id": "iO7fMbPcJ7FQ",
        "colab": {
          "base_uri": "https://localhost:8080/"
        },
        "outputId": "64785726-70ab-42d5-e42c-f42f62f6aadf"
      },
      "execution_count": 23,
      "outputs": [
        {
          "output_type": "execute_result",
          "data": {
            "text/plain": [
              "8851.484025439999"
            ]
          },
          "metadata": {},
          "execution_count": 23
        }
      ]
    },
    {
      "cell_type": "code",
      "source": [
        "# third moment\n",
        "scipy.stats.moment(ensemble_2, moment=3)"
      ],
      "metadata": {
        "id": "wOY8oL3oJ6_Y",
        "colab": {
          "base_uri": "https://localhost:8080/"
        },
        "outputId": "6599256c-c602-46d4-ed47-aa67cc0868f3"
      },
      "execution_count": 24,
      "outputs": [
        {
          "output_type": "execute_result",
          "data": {
            "text/plain": [
              "-27793.938466351414"
            ]
          },
          "metadata": {},
          "execution_count": 24
        }
      ]
    },
    {
      "cell_type": "code",
      "source": [
        "# fourth moment\n",
        "scipy.stats.moment(ensemble_2, moment=4)"
      ],
      "metadata": {
        "id": "CiH2I8SMJ64o",
        "colab": {
          "base_uri": "https://localhost:8080/"
        },
        "outputId": "aab4f27f-9757-4b4b-9d23-8fe3e88db5f6"
      },
      "execution_count": 25,
      "outputs": [
        {
          "output_type": "execute_result",
          "data": {
            "text/plain": [
              "233046447.79266176"
            ]
          },
          "metadata": {},
          "execution_count": 25
        }
      ]
    },
    {
      "cell_type": "markdown",
      "metadata": {
        "id": "nkyBsduhJNQZ"
      },
      "source": [
        "according to your result, can you tell how the shape of PDF function related to its cumulants?"
      ]
    },
    {
      "cell_type": "code",
      "execution_count": null,
      "metadata": {
        "id": "ZZoD18xvJNQZ"
      },
      "outputs": [],
      "source": [
        "#explain here"
      ]
    },
    {
      "cell_type": "markdown",
      "metadata": {
        "id": "6o17TlnNJNQa"
      },
      "source": [
        "# Conditional Probability\n"
      ]
    },
    {
      "cell_type": "markdown",
      "metadata": {
        "id": "xpJ6XqbzJNQb"
      },
      "source": [
        "![.jpg](attachment:.jpg)"
      ]
    },
    {
      "cell_type": "markdown",
      "metadata": {
        "id": "pnBeIR18JNQb"
      },
      "source": [
        "Suppose you're on a game show, and you're given the choice of three doors: Behind one door is a car; behind the others, goats. You pick a door, say No. 1, and the host, who knows what's behind the doors, opens another door, say No. 3, which has a goat. He then says to you, \"Do you want to pick door No. 2?\" Is it to your advantage to switch your choice? if Yes write a it's code to tell Us why and if your answer is No code it to prove the first group they are wrong:)"
      ]
    },
    {
      "cell_type": "code",
      "execution_count": null,
      "metadata": {
        "id": "Y1S6kSi3JNQb"
      },
      "outputs": [],
      "source": [
        "#code here"
      ]
    },
    {
      "cell_type": "code",
      "execution_count": 26,
      "metadata": {
        "id": "1ddfe538"
      },
      "outputs": [],
      "source": [
        "import numpy as np"
      ]
    },
    {
      "cell_type": "code",
      "execution_count": 27,
      "metadata": {
        "id": "62faaaff"
      },
      "outputs": [],
      "source": [
        "options = ['car', 'goat', 'goat']\n"
      ]
    },
    {
      "cell_type": "code",
      "execution_count": 28,
      "metadata": {
        "id": "74f9781a"
      },
      "outputs": [],
      "source": [
        "def make_options():\n",
        "    np.random.shuffle(options)\n",
        "\n",
        "def make_choice():\n",
        "    choice = np.random.choice([0, 1, 2])\n",
        "    return choice\n",
        "\n",
        "def delete_option():\n",
        "    while 'goat' in options:\n",
        "        number = np.random.choice([0, 1, 2])\n",
        "        if number != choice:\n",
        "            options.remove('goat')\n",
        "    "
      ]
    },
    {
      "cell_type": "code",
      "execution_count": 33,
      "metadata": {
        "id": "c5793767",
        "colab": {
          "base_uri": "https://localhost:8080/",
          "height": 235
        },
        "outputId": "27ce93b0-e958-48be-ba31-095f8aec8540"
      },
      "outputs": [
        {
          "output_type": "error",
          "ename": "IndexError",
          "evalue": "ignored",
          "traceback": [
            "\u001b[0;31m---------------------------------------------------------------------------\u001b[0m",
            "\u001b[0;31mIndexError\u001b[0m                                Traceback (most recent call last)",
            "\u001b[0;32m<ipython-input-33-8720335cc77b>\u001b[0m in \u001b[0;36m<module>\u001b[0;34m()\u001b[0m\n\u001b[1;32m      7\u001b[0m     \u001b[0mdelete_option\u001b[0m\u001b[0;34m(\u001b[0m\u001b[0;34m)\u001b[0m\u001b[0;34m\u001b[0m\u001b[0;34m\u001b[0m\u001b[0m\n\u001b[1;32m      8\u001b[0m \u001b[0;34m\u001b[0m\u001b[0m\n\u001b[0;32m----> 9\u001b[0;31m     \u001b[0;32mif\u001b[0m \u001b[0moptions\u001b[0m\u001b[0;34m[\u001b[0m\u001b[0mchoice\u001b[0m\u001b[0;34m]\u001b[0m \u001b[0;34m==\u001b[0m \u001b[0;34m'car'\u001b[0m\u001b[0;34m:\u001b[0m\u001b[0;34m\u001b[0m\u001b[0;34m\u001b[0m\u001b[0m\n\u001b[0m\u001b[1;32m     10\u001b[0m         \u001b[0mwin\u001b[0m \u001b[0;34m+=\u001b[0m \u001b[0;36m1\u001b[0m\u001b[0;34m\u001b[0m\u001b[0;34m\u001b[0m\u001b[0m\n\u001b[1;32m     11\u001b[0m \u001b[0;34m\u001b[0m\u001b[0m\n",
            "\u001b[0;31mIndexError\u001b[0m: list index out of range"
          ]
        }
      ],
      "source": [
        "win = 0\n",
        "\n",
        "n = 10\n",
        "for i in range(2):\n",
        "    make_options()\n",
        "    choice = make_choice()\n",
        "    delete_option()\n",
        "    \n",
        "    if options[choice] == 'car':\n",
        "        win += 1\n",
        "          \n",
        "# make_options()\n",
        "# choice = make_choice()\n",
        "# my_choice = options[choice]\n",
        "# delete_option()\n",
        "\n",
        "# if options[choice] == 'car':\n",
        "#     win += 1\n",
        "    \n",
        "# print(win)"
      ]
    },
    {
      "cell_type": "markdown",
      "metadata": {
        "id": "eaf9R-M2JNQb"
      },
      "source": [
        "# Centeral limit theorem"
      ]
    },
    {
      "cell_type": "markdown",
      "metadata": {
        "id": "hDdPO1RBJNQc"
      },
      "source": [
        "Choose a non-Gaussian distribution (uniform/bionomial/poission) and generate $10^5$ random variables for each of them.                                                      \n",
        "a) plot the PDF of samples you created .                                                   \n",
        "b) create $10^4$ random subset of length {2 , 5 , 10 , 20 , 100} from the first non-Gaussian distribution and caclculate mean of each subset, then plot the PDF of these means.                                                                       \n",
        "c) what do you understand form comparing the original distribution with those five?\n"
      ]
    },
    {
      "cell_type": "code",
      "execution_count": 38,
      "metadata": {
        "id": "2c_5Ndw9JNQc"
      },
      "outputs": [],
      "source": [
        "import numpy as np\n",
        "import seaborn as sns"
      ]
    },
    {
      "cell_type": "code",
      "source": [
        "random_numbers = np.random.uniform(0, 1, 10**5)"
      ],
      "metadata": {
        "id": "KtQ37nD68Wz7"
      },
      "execution_count": 39,
      "outputs": []
    },
    {
      "cell_type": "code",
      "source": [
        "sns.set()\n",
        "sns.displot(random_numbers, bins = 40, kde=True)"
      ],
      "metadata": {
        "colab": {
          "base_uri": "https://localhost:8080/",
          "height": 382
        },
        "id": "VcvvkhFu8WxN",
        "outputId": "001a6e49-c049-4c80-b105-3c5cbb572aef"
      },
      "execution_count": 40,
      "outputs": [
        {
          "output_type": "execute_result",
          "data": {
            "text/plain": [
              "<seaborn.axisgrid.FacetGrid at 0x7fe97670add0>"
            ]
          },
          "metadata": {},
          "execution_count": 40
        },
        {
          "output_type": "display_data",
          "data": {
            "image/png": "[encoded data removed]",
            "text/plain": [
              "<Figure size 360x360 with 1 Axes>"
            ]
          },
          "metadata": {}
        }
      ]
    },
    {
      "cell_type": "code",
      "source": [
        "random_numbers2 = np.random.binomial(100000, 0.5, 10**5)"
      ],
      "metadata": {
        "id": "8W38VRjr8WuK"
      },
      "execution_count": 41,
      "outputs": []
    },
    {
      "cell_type": "code",
      "source": [
        "sns.set()\n",
        "sns.displot(random_numbers2, bins=40, kde=True)"
      ],
      "metadata": {
        "colab": {
          "base_uri": "https://localhost:8080/",
          "height": 382
        },
        "id": "qlWXSRcw8kVw",
        "outputId": "0bf35d42-cdcb-454e-da40-82ff7b2fdf91"
      },
      "execution_count": 43,
      "outputs": [
        {
          "output_type": "execute_result",
          "data": {
            "text/plain": [
              "<seaborn.axisgrid.FacetGrid at 0x7fe9766a93d0>"
            ]
          },
          "metadata": {},
          "execution_count": 43
        },
        {
          "output_type": "display_data",
          "data": {
            "image/png": "[encoded data removed]",
            "text/plain": [
              "<Figure size 360x360 with 1 Axes>"
            ]
          },
          "metadata": {}
        }
      ]
    },
    {
      "cell_type": "code",
      "source": [
        "random_numbers3 = np.random.poisson(10, 10000000)"
      ],
      "metadata": {
        "id": "qxONMzfH8Wri"
      },
      "execution_count": 44,
      "outputs": []
    },
    {
      "cell_type": "code",
      "source": [
        "sns.set()\n",
        "sns.displot(random_numbers3, bins=30, kde=False)"
      ],
      "metadata": {
        "colab": {
          "base_uri": "https://localhost:8080/",
          "height": 382
        },
        "id": "k293LV2R8fmB",
        "outputId": "de3935fd-ac48-4405-b954-26e48da156bf"
      },
      "execution_count": 45,
      "outputs": [
        {
          "output_type": "execute_result",
          "data": {
            "text/plain": [
              "<seaborn.axisgrid.FacetGrid at 0x7fe9766a9a10>"
            ]
          },
          "metadata": {},
          "execution_count": 45
        },
        {
          "output_type": "display_data",
          "data": {
            "image/png": "[encoded data removed]",
            "text/plain": [
              "<Figure size 360x360 with 1 Axes>"
            ]
          },
          "metadata": {}
        }
      ]
    },
    {
      "cell_type": "markdown",
      "metadata": {
        "id": "kr3A-tXlJNQc"
      },
      "source": [
        "# Poission Approximation"
      ]
    },
    {
      "cell_type": "markdown",
      "metadata": {
        "id": "ojHA1EgNJNQc"
      },
      "source": [
        "Use python libraries to generate bionomial and poission distributions for different N’s (remember $\\lambda =NP$). Over plot them for N = {5, 10, 20, 50, 100, 200, 1000}\n",
        "How does it behave as N increases? \n",
        "\n"
      ]
    },
    {
      "cell_type": "code",
      "execution_count": null,
      "metadata": {
        "id": "3Bo37EmdJNQd"
      },
      "outputs": [],
      "source": [
        "#code here"
      ]
    },
    {
      "cell_type": "markdown",
      "metadata": {
        "id": "xqxgh_IWJNQd"
      },
      "source": [
        "# Box Muller Method"
      ]
    },
    {
      "cell_type": "markdown",
      "metadata": {
        "id": "_vxhKkG_JNQd"
      },
      "source": [
        "1- generate Normal distribution from uniform distribution (Box-Muller algorithm(https://en.wikipedia.org/wiki/Box%E2%80%93Muller_transform)- do not need to derive and prove it. the topic will be included in lectures in the following week). Normal= zero mean, unit variance    \n",
        "a)Sample many points from this distribution. plot the pdf of the sample (plot hist).             \n",
        "                              \n"
      ]
    },
    {
      "cell_type": "code",
      "execution_count": null,
      "metadata": {
        "id": "wV6r79n2JNQd"
      },
      "outputs": [],
      "source": [
        "#code here"
      ]
    },
    {
      "cell_type": "markdown",
      "metadata": {
        "id": "pCmPsZedJNQd"
      },
      "source": [
        "b)Calculate mean of the sample. Its variance."
      ]
    },
    {
      "cell_type": "code",
      "execution_count": null,
      "metadata": {
        "id": "5WRjvzRMJNQd"
      },
      "outputs": [],
      "source": [
        "#code here"
      ]
    },
    {
      "cell_type": "markdown",
      "metadata": {
        "id": "eq4c1ZDoJNQe"
      },
      "source": [
        "c)Overplot the pdf now, using this mean and variance (on the plot hist). Also use the mean and std deviation functions from python library. Do they agree?"
      ]
    },
    {
      "cell_type": "code",
      "execution_count": null,
      "metadata": {
        "id": "-cBEF_zzJNQe"
      },
      "outputs": [],
      "source": [
        "#code here"
      ]
    },
    {
      "cell_type": "markdown",
      "metadata": {
        "id": "cpSFf6tOJNQe"
      },
      "source": [
        "d)Now that you have your Normal distribution, how can you turn it into a Gaussian distribution with  given mean and variance? For example mean=2, and std dev=4 ?   "
      ]
    },
    {
      "cell_type": "code",
      "execution_count": null,
      "metadata": {
        "id": "LJbekWCLJNQe"
      },
      "outputs": [],
      "source": [
        "#code here"
      ]
    },
    {
      "cell_type": "markdown",
      "metadata": {
        "id": "lM0gBy3KJNQe"
      },
      "source": [
        "there are two problems left, but you can choose one of them to solve.(we highly recommend you to solve both of them)"
      ]
    },
    {
      "cell_type": "markdown",
      "metadata": {
        "id": "MseQ6SAQJNQf"
      },
      "source": [
        "# Nice Matrix"
      ]
    },
    {
      "cell_type": "markdown",
      "metadata": {
        "id": "_qvghyCWJNQf"
      },
      "source": [
        "A matrix of size n$\\times$n which include numbers of {1,2,3,...,$n^2$} is called nice, if sum of all rows and columns  are the same. write a code that get n as a input and return a n$\\times$n Nice Matrix. print out the examples of Nice Matrix for n = 4,5,6"
      ]
    },
    {
      "cell_type": "code",
      "execution_count": null,
      "metadata": {
        "id": "DtROrQYRJNQf"
      },
      "outputs": [],
      "source": [
        "#code here"
      ]
    },
    {
      "cell_type": "markdown",
      "metadata": {
        "id": "RVLVTUelJNQf"
      },
      "source": [
        "# Honest and Liers"
      ]
    },
    {
      "cell_type": "markdown",
      "metadata": {
        "id": "9kWxAYJ5JNQf"
      },
      "source": [
        "Suppose there 16 People sit around a circular table.  ٍEach claims that the two people next to him/her are liars. How many liars are there in the crowd? "
      ]
    },
    {
      "cell_type": "code",
      "execution_count": null,
      "metadata": {
        "id": "f2EQAcqpJNQf"
      },
      "outputs": [],
      "source": [
        "#code here "
      ]
    }
  ],
  "metadata": {
    "hide_input": false,
    "kernelspec": {
      "display_name": "Python 3 (ipykernel)",
      "language": "python",
      "name": "python3"
    },
    "language_info": {
      "codemirror_mode": {
        "name": "ipython",
        "version": 3
      },
      "file_extension": ".py",
      "mimetype": "text/x-python",
      "name": "python",
      "nbconvert_exporter": "python",
      "pygments_lexer": "ipython3",
      "version": "3.9.7"
    },
    "toc": {
      "base_numbering": 1,
      "nav_menu": {},
      "number_sections": true,
      "sideBar": true,
      "skip_h1_title": false,
      "title_cell": "Table of Contents",
      "title_sidebar": "Contents",
      "toc_cell": false,
      "toc_position": {
        "height": "calc(100% - 180px)",
        "left": "10px",
        "top": "150px",
        "width": "165px"
      },
      "toc_section_display": true,
      "toc_window_display": true
    },
    "colab": {
      "name": "Data_Analysis_HW1.ipynb",
      "provenance": [],
      "collapsed_sections": []
    }
  },
  "nbformat": 4,
  "nbformat_minor": 0
}